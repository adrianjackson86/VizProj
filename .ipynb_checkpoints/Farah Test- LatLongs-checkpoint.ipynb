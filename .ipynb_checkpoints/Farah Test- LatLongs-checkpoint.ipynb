{
 "cells": [
  {
   "cell_type": "code",
   "execution_count": 64,
   "metadata": {},
   "outputs": [],
   "source": [
    "import pandas as pd\n",
    "import requests \n",
    "import json\n",
    "from config import gkey\n"
   ]
  },
  {
   "cell_type": "code",
   "execution_count": 65,
   "metadata": {},
   "outputs": [
    {
     "data": {
      "text/plain": [
       "6514"
      ]
     },
     "execution_count": 65,
     "metadata": {},
     "output_type": "execute_result"
    }
   ],
   "source": [
    "test = pd.read_csv(\"data/NYC_Restaurants.csv\")\n",
    "df = test\n",
    "len(test)"
   ]
  },
  {
   "cell_type": "code",
   "execution_count": 72,
   "metadata": {},
   "outputs": [],
   "source": [
    "df = df.astype({\"ZIPCODE\": str})\n",
    "address_full = df['BUILDING']+\" \"+df['STREET'] +\" \"+ df['ZIPCODE']\n",
    "df['address_full'] = address_full\n",
    "df.to_csv('NYC_Restaurants_GeoCode.csv',index=False)"
   ]
  },
  {
   "cell_type": "code",
   "execution_count": null,
   "metadata": {},
   "outputs": [],
   "source": [
    "address_full\n",
    "url = f\"https://maps.googleapis.com/maps/api/geocode/json?address={address_full}&key={gkey}\""
   ]
  },
  {
   "cell_type": "code",
   "execution_count": null,
   "metadata": {},
   "outputs": [],
   "source": [
    "lat = []\n",
    "long = []\n",
    "cities = []\n",
    "\n",
    "for x in address_full:\n",
    "    url = f'https://maps.googleapis.com/maps/api/geocode/json?address={x}&key={gkey}'\n",
    "    geo_data = requests.get(url).json()\n",
    "    print(geo_data[\"results\"][0][\"geometry\"][\"location\"][\"lat\"])\n",
    "#     lat.append(geo_data[\"results\"][0][\"geometry\"][\"location\"][\"lat\"])\n",
    "    print(geo_data[\"results\"][0][\"geometry\"][\"location\"][\"lng\"])\n",
    "    print(geo_data[\"results\"][0][\"formatted_address\"])\n",
    "\n",
    "# df = pd.DataFrame(columns=['cities', 'lat', 'long'])    \n",
    "df['lat'] =  lat\n",
    "df['long'] =  long\n",
    "df['cities'] = cities"
   ]
  },
  {
   "cell_type": "code",
   "execution_count": 73,
   "metadata": {},
   "outputs": [
    {
     "data": {
      "text/plain": [
       "6514"
      ]
     },
     "execution_count": 73,
     "metadata": {},
     "output_type": "execute_result"
    }
   ],
   "source": [
    "len(address_full)"
   ]
  },
  {
   "cell_type": "code",
   "execution_count": null,
   "metadata": {},
   "outputs": [],
   "source": []
  },
  {
   "cell_type": "code",
   "execution_count": null,
   "metadata": {},
   "outputs": [],
   "source": [
    "test = pd.read_csv(\"NYC_Restaurants_GeoCode.csv\")\n",
    "test['lat'] =  \"\"\n",
    "test['long'] =  \"\"\n",
    "test['cities'] = \"\"\n"
   ]
  }
 ],
 "metadata": {
  "kernelspec": {
   "display_name": "Python 3",
   "language": "python",
   "name": "python3"
  },
  "language_info": {
   "codemirror_mode": {
    "name": "ipython",
    "version": 3
   },
   "file_extension": ".py",
   "mimetype": "text/x-python",
   "name": "python",
   "nbconvert_exporter": "python",
   "pygments_lexer": "ipython3",
   "version": "3.7.2"
  }
 },
 "nbformat": 4,
 "nbformat_minor": 2
}
